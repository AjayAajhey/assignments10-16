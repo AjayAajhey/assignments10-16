{
  "nbformat": 4,
  "nbformat_minor": 0,
  "metadata": {
    "colab": {
      "name": "Task7KNN.ipynb",
      "provenance": [],
      "authorship_tag": "ABX9TyNmjxc7VhD1rDKugPhF18P1",
      "include_colab_link": true
    },
    "kernelspec": {
      "name": "python3",
      "display_name": "Python 3"
    },
    "language_info": {
      "name": "python"
    }
  },
  "cells": [
    {
      "cell_type": "markdown",
      "metadata": {
        "id": "view-in-github",
        "colab_type": "text"
      },
      "source": [
        "<a href=\"https://colab.research.google.com/github/AjayAajhey/assignments10-16/blob/main/Task7KNN.ipynb\" target=\"_parent\"><img src=\"https://colab.research.google.com/assets/colab-badge.svg\" alt=\"Open In Colab\"/></a>"
      ]
    },
    {
      "cell_type": "code",
      "execution_count": null,
      "metadata": {
        "id": "kwg02HAI0y-_"
      },
      "outputs": [],
      "source": [
        "import pandas as pd\n",
        "import numpy as np\n",
        "import matplotlib.pyplot as plt\n",
        "import seaborn as sns\n",
        "from sklearn.neighbors import KNeighborsClassifier\n",
        "from sklearn.metrics import classification_report,accuracy_score \n",
        "from sklearn.model_selection import cross_val_score\n",
        "import warnings\n",
        "warnings.filterwarnings(\"ignore\")"
      ]
    },
    {
      "cell_type": "code",
      "source": [
        "from google.colab import files\n",
        "files.upload()"
      ],
      "metadata": {
        "colab": {
          "resources": {
            "http://localhost:8080/nbextensions/google.colab/files.js": {
              "data": "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",
              "ok": true,
              "headers": [
                [
                  "content-type",
                  "application/javascript"
                ]
              ],
              "status": 200,
              "status_text": ""
            }
          },
          "base_uri": "https://localhost:8080/",
          "height": 198
        },
        "id": "10rPTpRc2rzp",
        "outputId": "44dd14b3-1334-48f5-dc63-973e668acd58"
      },
      "execution_count": null,
      "outputs": [
        {
          "output_type": "display_data",
          "data": {
            "text/plain": [
              "<IPython.core.display.HTML object>"
            ],
            "text/html": [
              "\n",
              "     <input type=\"file\" id=\"files-f303ae2d-542c-4bf5-b36e-617f435b5409\" name=\"files[]\" multiple disabled\n",
              "        style=\"border:none\" />\n",
              "     <output id=\"result-f303ae2d-542c-4bf5-b36e-617f435b5409\">\n",
              "      Upload widget is only available when the cell has been executed in the\n",
              "      current browser session. Please rerun this cell to enable.\n",
              "      </output>\n",
              "      <script src=\"/nbextensions/google.colab/files.js\"></script> "
            ]
          },
          "metadata": {}
        },
        {
          "output_type": "stream",
          "name": "stdout",
          "text": [
            "Saving testKNN (1).txt to testKNN (1) (1).txt\n",
            "Saving trainKNN (1).txt to trainKNN (1) (2).txt\n"
          ]
        },
        {
          "output_type": "execute_result",
          "data": {
            "text/plain": [
              "{'testKNN (1).txt': b'68,1.52152,13.05,3.65,0.87,72.32,0.19,9.85,0.00,0.17,1\\n69,1.52152,13.12,3.58,0.90,72.20,0.23,9.82,0.00,0.16,1\\n70,1.52300,13.31,3.58,0.82,71.99,0.12,10.17,0.00,0.03,1\\n144,1.51709,13.00,3.47,1.79,72.72,0.66,8.18,0.00,0.00,2\\n145,1.51660,12.99,3.18,1.23,72.97,0.58,8.81,0.00,0.24,2\\n146,1.51839,12.85,3.67,1.24,72.57,0.62,8.68,0.00,0.35,2\\n161,1.51832,13.33,3.34,1.54,72.14,0.56,8.99,0.00,0.00,3\\n162,1.51934,13.64,3.54,0.75,72.65,0.16,8.89,0.15,0.24,3\\n163,1.52211,14.19,3.78,0.91,71.36,0.23,9.14,0.00,0.37,3\\n174,1.52043,13.38,0.00,1.40,72.25,0.33,12.50,0.00,0.00,5\\n175,1.52058,12.85,1.61,2.17,72.18,0.76,9.70,0.24,0.51,5\\n176,1.52119,12.97,0.33,1.51,73.39,0.13,11.27,0.00,0.28,5\\n183,1.51916,14.15,0.00,2.09,72.74,0.00,10.88,0.00,0.00,6\\n184,1.51969,14.56,0.00,0.56,73.48,0.00,11.22,0.00,0.00,6\\n185,1.51115,17.38,0.00,0.34,75.41,0.00,6.65,0.00,0.00,6\\n212,1.52065,14.36,0.00,2.02,73.42,0.00,8.44,1.64,0.00,7\\n213,1.51651,14.38,0.00,1.94,73.61,0.00,8.48,1.57,0.00,7\\n214,1.51711,14.23,0.00,2.08,73.36,0.00,8.62,1.67,0.00,7',\n",
              " 'trainKNN (1).txt': b'1,1.52101,13.64,4.49,1.10,71.78,0.06,8.75,0.00,0.00,1\\n2,1.51761,13.89,3.60,1.36,72.73,0.48,7.83,0.00,0.00,1\\n3,1.51618,13.53,3.55,1.54,72.99,0.39,7.78,0.00,0.00,1\\n4,1.51766,13.21,3.69,1.29,72.61,0.57,8.22,0.00,0.00,1\\n5,1.51742,13.27,3.62,1.24,73.08,0.55,8.07,0.00,0.00,1\\n6,1.51596,12.79,3.61,1.62,72.97,0.64,8.07,0.00,0.26,1\\n7,1.51743,13.30,3.60,1.14,73.09,0.58,8.17,0.00,0.00,1\\n8,1.51756,13.15,3.61,1.05,73.24,0.57,8.24,0.00,0.00,1\\n9,1.51918,14.04,3.58,1.37,72.08,0.56,8.30,0.00,0.00,1\\n10,1.51755,13.00,3.60,1.36,72.99,0.57,8.40,0.00,0.11,1\\n11,1.51571,12.72,3.46,1.56,73.20,0.67,8.09,0.00,0.24,1\\n12,1.51763,12.80,3.66,1.27,73.01,0.60,8.56,0.00,0.00,1\\n13,1.51589,12.88,3.43,1.40,73.28,0.69,8.05,0.00,0.24,1\\n14,1.51748,12.86,3.56,1.27,73.21,0.54,8.38,0.00,0.17,1\\n15,1.51763,12.61,3.59,1.31,73.29,0.58,8.50,0.00,0.00,1\\n16,1.51761,12.81,3.54,1.23,73.24,0.58,8.39,0.00,0.00,1\\n17,1.51784,12.68,3.67,1.16,73.11,0.61,8.70,0.00,0.00,1\\n18,1.52196,14.36,3.85,0.89,71.36,0.15,9.15,0.00,0.00,1\\n19,1.51911,13.90,3.73,1.18,72.12,0.06,8.89,0.00,0.00,1\\n20,1.51735,13.02,3.54,1.69,72.73,0.54,8.44,0.00,0.07,1\\n21,1.51750,12.82,3.55,1.49,72.75,0.54,8.52,0.00,0.19,1\\n22,1.51966,14.77,3.75,0.29,72.02,0.03,9.00,0.00,0.00,1\\n23,1.51736,12.78,3.62,1.29,72.79,0.59,8.70,0.00,0.00,1\\n24,1.51751,12.81,3.57,1.35,73.02,0.62,8.59,0.00,0.00,1\\n25,1.51720,13.38,3.50,1.15,72.85,0.50,8.43,0.00,0.00,1\\n26,1.51764,12.98,3.54,1.21,73.00,0.65,8.53,0.00,0.00,1\\n27,1.51793,13.21,3.48,1.41,72.64,0.59,8.43,0.00,0.00,1\\n28,1.51721,12.87,3.48,1.33,73.04,0.56,8.43,0.00,0.00,1\\n29,1.51768,12.56,3.52,1.43,73.15,0.57,8.54,0.00,0.00,1\\n30,1.51784,13.08,3.49,1.28,72.86,0.60,8.49,0.00,0.00,1\\n31,1.51768,12.65,3.56,1.30,73.08,0.61,8.69,0.00,0.14,1\\n32,1.51747,12.84,3.50,1.14,73.27,0.56,8.55,0.00,0.00,1\\n33,1.51775,12.85,3.48,1.23,72.97,0.61,8.56,0.09,0.22,1\\n34,1.51753,12.57,3.47,1.38,73.39,0.60,8.55,0.00,0.06,1\\n35,1.51783,12.69,3.54,1.34,72.95,0.57,8.75,0.00,0.00,1\\n36,1.51567,13.29,3.45,1.21,72.74,0.56,8.57,0.00,0.00,1\\n37,1.51909,13.89,3.53,1.32,71.81,0.51,8.78,0.11,0.00,1\\n38,1.51797,12.74,3.48,1.35,72.96,0.64,8.68,0.00,0.00,1\\n39,1.52213,14.21,3.82,0.47,71.77,0.11,9.57,0.00,0.00,1\\n40,1.52213,14.21,3.82,0.47,71.77,0.11,9.57,0.00,0.00,1\\n41,1.51793,12.79,3.50,1.12,73.03,0.64,8.77,0.00,0.00,1\\n42,1.51755,12.71,3.42,1.20,73.20,0.59,8.64,0.00,0.00,1\\n43,1.51779,13.21,3.39,1.33,72.76,0.59,8.59,0.00,0.00,1\\n44,1.52210,13.73,3.84,0.72,71.76,0.17,9.74,0.00,0.00,1\\n45,1.51786,12.73,3.43,1.19,72.95,0.62,8.76,0.00,0.30,1\\n46,1.51900,13.49,3.48,1.35,71.95,0.55,9.00,0.00,0.00,1\\n47,1.51869,13.19,3.37,1.18,72.72,0.57,8.83,0.00,0.16,1\\n48,1.52667,13.99,3.70,0.71,71.57,0.02,9.82,0.00,0.10,1\\n49,1.52223,13.21,3.77,0.79,71.99,0.13,10.02,0.00,0.00,1\\n50,1.51898,13.58,3.35,1.23,72.08,0.59,8.91,0.00,0.00,1\\n51,1.52320,13.72,3.72,0.51,71.75,0.09,10.06,0.00,0.16,1\\n52,1.51926,13.20,3.33,1.28,72.36,0.60,9.14,0.00,0.11,1\\n53,1.51808,13.43,2.87,1.19,72.84,0.55,9.03,0.00,0.00,1\\n54,1.51837,13.14,2.84,1.28,72.85,0.55,9.07,0.00,0.00,1\\n55,1.51778,13.21,2.81,1.29,72.98,0.51,9.02,0.00,0.09,1\\n56,1.51769,12.45,2.71,1.29,73.70,0.56,9.06,0.00,0.24,1\\n57,1.51215,12.99,3.47,1.12,72.98,0.62,8.35,0.00,0.31,1\\n58,1.51824,12.87,3.48,1.29,72.95,0.60,8.43,0.00,0.00,1\\n59,1.51754,13.48,3.74,1.17,72.99,0.59,8.03,0.00,0.00,1\\n60,1.51754,13.39,3.66,1.19,72.79,0.57,8.27,0.00,0.11,1\\n61,1.51905,13.60,3.62,1.11,72.64,0.14,8.76,0.00,0.00,1\\n62,1.51977,13.81,3.58,1.32,71.72,0.12,8.67,0.69,0.00,1\\n63,1.52172,13.51,3.86,0.88,71.79,0.23,9.54,0.00,0.11,1\\n64,1.52227,14.17,3.81,0.78,71.35,0.00,9.69,0.00,0.00,1\\n65,1.52172,13.48,3.74,0.90,72.01,0.18,9.61,0.00,0.07,1\\n66,1.52099,13.69,3.59,1.12,71.96,0.09,9.40,0.00,0.00,1\\n67,1.52152,13.05,3.65,0.87,72.22,0.19,9.85,0.00,0.17,1\\n71,1.51574,14.86,3.67,1.74,71.87,0.16,7.36,0.00,0.12,2\\n72,1.51848,13.64,3.87,1.27,71.96,0.54,8.32,0.00,0.32,2\\n73,1.51593,13.09,3.59,1.52,73.10,0.67,7.83,0.00,0.00,2\\n74,1.51631,13.34,3.57,1.57,72.87,0.61,7.89,0.00,0.00,2\\n75,1.51596,13.02,3.56,1.54,73.11,0.72,7.90,0.00,0.00,2\\n76,1.51590,13.02,3.58,1.51,73.12,0.69,7.96,0.00,0.00,2\\n77,1.51645,13.44,3.61,1.54,72.39,0.66,8.03,0.00,0.00,2\\n78,1.51627,13.00,3.58,1.54,72.83,0.61,8.04,0.00,0.00,2\\n79,1.51613,13.92,3.52,1.25,72.88,0.37,7.94,0.00,0.14,2\\n80,1.51590,12.82,3.52,1.90,72.86,0.69,7.97,0.00,0.00,2\\n81,1.51592,12.86,3.52,2.12,72.66,0.69,7.97,0.00,0.00,2\\n82,1.51593,13.25,3.45,1.43,73.17,0.61,7.86,0.00,0.00,2\\n83,1.51646,13.41,3.55,1.25,72.81,0.68,8.10,0.00,0.00,2\\n84,1.51594,13.09,3.52,1.55,72.87,0.68,8.05,0.00,0.09,2\\n85,1.51409,14.25,3.09,2.08,72.28,1.10,7.08,0.00,0.00,2\\n86,1.51625,13.36,3.58,1.49,72.72,0.45,8.21,0.00,0.00,2\\n87,1.51569,13.24,3.49,1.47,73.25,0.38,8.03,0.00,0.00,2\\n88,1.51645,13.40,3.49,1.52,72.65,0.67,8.08,0.00,0.10,2\\n89,1.51618,13.01,3.50,1.48,72.89,0.60,8.12,0.00,0.00,2\\n90,1.51640,12.55,3.48,1.87,73.23,0.63,8.08,0.00,0.09,2\\n91,1.51841,12.93,3.74,1.11,72.28,0.64,8.96,0.00,0.22,2\\n92,1.51605,12.90,3.44,1.45,73.06,0.44,8.27,0.00,0.00,2\\n93,1.51588,13.12,3.41,1.58,73.26,0.07,8.39,0.00,0.19,2\\n94,1.51590,13.24,3.34,1.47,73.10,0.39,8.22,0.00,0.00,2\\n95,1.51629,12.71,3.33,1.49,73.28,0.67,8.24,0.00,0.00,2\\n96,1.51860,13.36,3.43,1.43,72.26,0.51,8.60,0.00,0.00,2\\n97,1.51841,13.02,3.62,1.06,72.34,0.64,9.13,0.00,0.15,2\\n98,1.51743,12.20,3.25,1.16,73.55,0.62,8.90,0.00,0.24,2\\n99,1.51689,12.67,2.88,1.71,73.21,0.73,8.54,0.00,0.00,2\\n100,1.51811,12.96,2.96,1.43,72.92,0.60,8.79,0.14,0.00,2\\n101,1.51655,12.75,2.85,1.44,73.27,0.57,8.79,0.11,0.22,2\\n102,1.51730,12.35,2.72,1.63,72.87,0.70,9.23,0.00,0.00,2\\n103,1.51820,12.62,2.76,0.83,73.81,0.35,9.42,0.00,0.20,2\\n104,1.52725,13.80,3.15,0.66,70.57,0.08,11.64,0.00,0.00,2\\n105,1.52410,13.83,2.90,1.17,71.15,0.08,10.79,0.00,0.00,2\\n106,1.52475,11.45,0.00,1.88,72.19,0.81,13.24,0.00,0.34,2\\n107,1.53125,10.73,0.00,2.10,69.81,0.58,13.30,3.15,0.28,2\\n108,1.53393,12.30,0.00,1.00,70.16,0.12,16.19,0.00,0.24,2\\n109,1.52222,14.43,0.00,1.00,72.67,0.10,11.52,0.00,0.08,2\\n110,1.51818,13.72,0.00,0.56,74.45,0.00,10.99,0.00,0.00,2\\n111,1.52664,11.23,0.00,0.77,73.21,0.00,14.68,0.00,0.00,2\\n112,1.52739,11.02,0.00,0.75,73.08,0.00,14.96,0.00,0.00,2\\n113,1.52777,12.64,0.00,0.67,72.02,0.06,14.40,0.00,0.00,2\\n114,1.51892,13.46,3.83,1.26,72.55,0.57,8.21,0.00,0.14,2\\n115,1.51847,13.10,3.97,1.19,72.44,0.60,8.43,0.00,0.00,2\\n116,1.51846,13.41,3.89,1.33,72.38,0.51,8.28,0.00,0.00,2\\n117,1.51829,13.24,3.90,1.41,72.33,0.55,8.31,0.00,0.10,2\\n118,1.51708,13.72,3.68,1.81,72.06,0.64,7.88,0.00,0.00,2\\n119,1.51673,13.30,3.64,1.53,72.53,0.65,8.03,0.00,0.29,2\\n120,1.51652,13.56,3.57,1.47,72.45,0.64,7.96,0.00,0.00,2\\n121,1.51844,13.25,3.76,1.32,72.40,0.58,8.42,0.00,0.00,2\\n122,1.51663,12.93,3.54,1.62,72.96,0.64,8.03,0.00,0.21,2\\n123,1.51687,13.23,3.54,1.48,72.84,0.56,8.10,0.00,0.00,2\\n124,1.51707,13.48,3.48,1.71,72.52,0.62,7.99,0.00,0.00,2\\n125,1.52177,13.20,3.68,1.15,72.75,0.54,8.52,0.00,0.00,2\\n126,1.51872,12.93,3.66,1.56,72.51,0.58,8.55,0.00,0.12,2\\n127,1.51667,12.94,3.61,1.26,72.75,0.56,8.60,0.00,0.00,2\\n128,1.52081,13.78,2.28,1.43,71.99,0.49,9.85,0.00,0.17,2\\n129,1.52068,13.55,2.09,1.67,72.18,0.53,9.57,0.27,0.17,2\\n130,1.52020,13.98,1.35,1.63,71.76,0.39,10.56,0.00,0.18,2\\n131,1.52177,13.75,1.01,1.36,72.19,0.33,11.14,0.00,0.00,2\\n132,1.52614,13.70,0.00,1.36,71.24,0.19,13.44,0.00,0.10,2\\n133,1.51813,13.43,3.98,1.18,72.49,0.58,8.15,0.00,0.00,2\\n134,1.51800,13.71,3.93,1.54,71.81,0.54,8.21,0.00,0.15,2\\n135,1.51811,13.33,3.85,1.25,72.78,0.52,8.12,0.00,0.00,2\\n136,1.51789,13.19,3.90,1.30,72.33,0.55,8.44,0.00,0.28,2\\n137,1.51806,13.00,3.80,1.08,73.07,0.56,8.38,0.00,0.12,2\\n138,1.51711,12.89,3.62,1.57,72.96,0.61,8.11,0.00,0.00,2\\n139,1.51674,12.79,3.52,1.54,73.36,0.66,7.90,0.00,0.00,2\\n140,1.51674,12.87,3.56,1.64,73.14,0.65,7.99,0.00,0.00,2\\n141,1.51690,13.33,3.54,1.61,72.54,0.68,8.11,0.00,0.00,2\\n142,1.51851,13.20,3.63,1.07,72.83,0.57,8.41,0.09,0.17,2\\n143,1.51662,12.85,3.51,1.44,73.01,0.68,8.23,0.06,0.25,2\\n147,1.51769,13.65,3.66,1.11,72.77,0.11,8.60,0.00,0.00,3\\n148,1.51610,13.33,3.53,1.34,72.67,0.56,8.33,0.00,0.00,3\\n149,1.51670,13.24,3.57,1.38,72.70,0.56,8.44,0.00,0.10,3\\n150,1.51643,12.16,3.52,1.35,72.89,0.57,8.53,0.00,0.00,3\\n151,1.51665,13.14,3.45,1.76,72.48,0.60,8.38,0.00,0.17,3\\n152,1.52127,14.32,3.90,0.83,71.50,0.00,9.49,0.00,0.00,3\\n153,1.51779,13.64,3.65,0.65,73.00,0.06,8.93,0.00,0.00,3\\n154,1.51610,13.42,3.40,1.22,72.69,0.59,8.32,0.00,0.00,3\\n155,1.51694,12.86,3.58,1.31,72.61,0.61,8.79,0.00,0.00,3\\n156,1.51646,13.04,3.40,1.26,73.01,0.52,8.58,0.00,0.00,3\\n157,1.51655,13.41,3.39,1.28,72.64,0.52,8.65,0.00,0.00,3\\n158,1.52121,14.03,3.76,0.58,71.79,0.11,9.65,0.00,0.00,3\\n159,1.51776,13.53,3.41,1.52,72.04,0.58,8.79,0.00,0.00,3\\n160,1.51796,13.50,3.36,1.63,71.94,0.57,8.81,0.00,0.09,3\\n164,1.51514,14.01,2.68,3.50,69.89,1.68,5.87,2.20,0.00,5\\n165,1.51915,12.73,1.85,1.86,72.69,0.60,10.09,0.00,0.00,5\\n166,1.52171,11.56,1.88,1.56,72.86,0.47,11.41,0.00,0.00,5\\n167,1.52151,11.03,1.71,1.56,73.44,0.58,11.62,0.00,0.00,5\\n168,1.51969,12.64,0.00,1.65,73.75,0.38,11.53,0.00,0.00,5\\n169,1.51666,12.86,0.00,1.83,73.88,0.97,10.17,0.00,0.00,5\\n170,1.51994,13.27,0.00,1.76,73.03,0.47,11.32,0.00,0.00,5\\n171,1.52369,13.44,0.00,1.58,72.22,0.32,12.24,0.00,0.00,5\\n172,1.51316,13.02,0.00,3.04,70.48,6.21,6.96,0.00,0.00,5\\n173,1.51321,13.00,0.00,3.02,70.70,6.21,6.93,0.00,0.00,5\\n177,1.51905,14.00,2.39,1.56,72.37,0.00,9.57,0.00,0.00,6\\n178,1.51937,13.79,2.41,1.19,72.76,0.00,9.77,0.00,0.00,6\\n179,1.51829,14.46,2.24,1.62,72.38,0.00,9.26,0.00,0.00,6\\n180,1.51852,14.09,2.19,1.66,72.67,0.00,9.32,0.00,0.00,6\\n181,1.51299,14.40,1.74,1.54,74.55,0.00,7.59,0.00,0.00,6\\n182,1.51888,14.99,0.78,1.74,72.50,0.00,9.95,0.00,0.00,6\\n186,1.51131,13.69,3.20,1.81,72.81,1.76,5.43,1.19,0.00,7\\n187,1.51838,14.32,3.26,2.22,71.25,1.46,5.79,1.63,0.00,7\\n188,1.52315,13.44,3.34,1.23,72.38,0.60,8.83,0.00,0.00,7\\n189,1.52247,14.86,2.20,2.06,70.26,0.76,9.76,0.00,0.00,7\\n190,1.52365,15.79,1.83,1.31,70.43,0.31,8.61,1.68,0.00,7\\n191,1.51613,13.88,1.78,1.79,73.10,0.00,8.67,0.76,0.00,7\\n192,1.51602,14.85,0.00,2.38,73.28,0.00,8.76,0.64,0.09,7\\n193,1.51623,14.20,0.00,2.79,73.46,0.04,9.04,0.40,0.09,7\\n194,1.51719,14.75,0.00,2.00,73.02,0.00,8.53,1.59,0.08,7\\n195,1.51683,14.56,0.00,1.98,73.29,0.00,8.52,1.57,0.07,7\\n196,1.51545,14.14,0.00,2.68,73.39,0.08,9.07,0.61,0.05,7\\n197,1.51556,13.87,0.00,2.54,73.23,0.14,9.41,0.81,0.01,7\\n198,1.51727,14.70,0.00,2.34,73.28,0.00,8.95,0.66,0.00,7\\n199,1.51531,14.38,0.00,2.66,73.10,0.04,9.08,0.64,0.00,7\\n200,1.51609,15.01,0.00,2.51,73.05,0.05,8.83,0.53,0.00,7\\n201,1.51508,15.15,0.00,2.25,73.50,0.00,8.34,0.63,0.00,7\\n202,1.51653,11.95,0.00,1.19,75.18,2.70,8.93,0.00,0.00,7\\n203,1.51514,14.85,0.00,2.42,73.72,0.00,8.39,0.56,0.00,7\\n204,1.51658,14.80,0.00,1.99,73.11,0.00,8.28,1.71,0.00,7\\n205,1.51617,14.95,0.00,2.27,73.30,0.00,8.71,0.67,0.00,7\\n206,1.51732,14.95,0.00,1.80,72.99,0.00,8.61,1.55,0.00,7\\n207,1.51645,14.94,0.00,1.87,73.11,0.00,8.67,1.38,0.00,7\\n208,1.51831,14.39,0.00,1.82,72.86,1.41,6.47,2.88,0.00,7\\n209,1.51640,14.37,0.00,2.74,72.85,0.00,9.45,0.54,0.00,7\\n210,1.51623,14.14,0.00,2.88,72.61,0.08,9.18,1.06,0.00,7\\n211,1.51685,14.92,0.00,1.99,73.06,0.00,8.40,1.59,0.00,7\\n'}"
            ]
          },
          "metadata": {},
          "execution_count": 2
        }
      ]
    },
    {
      "cell_type": "code",
      "source": [
        "train=pd.read_csv(\"/content/trainKNN (1).txt\",sep=\",\",header=None,\n",
        "                       names=[\"Number\",\"oxide1\",\"oxide2\",\"oxide3\",\"oxide4\",\"oxide5\",\"oxide6\",\"oxide7\",\"oxide8\",\"oxide9\",\"class\"])\n",
        "train.head()"
      ],
      "metadata": {
        "colab": {
          "base_uri": "https://localhost:8080/",
          "height": 206
        },
        "id": "TTbZ_yxB3HqK",
        "outputId": "e06d805c-0481-4c0f-f90f-ac8a00c28ca7"
      },
      "execution_count": null,
      "outputs": [
        {
          "output_type": "execute_result",
          "data": {
            "text/plain": [
              "   Number   oxide1  oxide2  oxide3  oxide4  oxide5  oxide6  oxide7  oxide8  \\\n",
              "0       1  1.52101   13.64    4.49    1.10   71.78    0.06    8.75     0.0   \n",
              "1       2  1.51761   13.89    3.60    1.36   72.73    0.48    7.83     0.0   \n",
              "2       3  1.51618   13.53    3.55    1.54   72.99    0.39    7.78     0.0   \n",
              "3       4  1.51766   13.21    3.69    1.29   72.61    0.57    8.22     0.0   \n",
              "4       5  1.51742   13.27    3.62    1.24   73.08    0.55    8.07     0.0   \n",
              "\n",
              "   oxide9  class  \n",
              "0     0.0      1  \n",
              "1     0.0      1  \n",
              "2     0.0      1  \n",
              "3     0.0      1  \n",
              "4     0.0      1  "
            ],
            "text/html": [
              "\n",
              "  <div id=\"df-e3741ece-8f46-442a-b3f4-61e03aa0e4fc\">\n",
              "    <div class=\"colab-df-container\">\n",
              "      <div>\n",
              "<style scoped>\n",
              "    .dataframe tbody tr th:only-of-type {\n",
              "        vertical-align: middle;\n",
              "    }\n",
              "\n",
              "    .dataframe tbody tr th {\n",
              "        vertical-align: top;\n",
              "    }\n",
              "\n",
              "    .dataframe thead th {\n",
              "        text-align: right;\n",
              "    }\n",
              "</style>\n",
              "<table border=\"1\" class=\"dataframe\">\n",
              "  <thead>\n",
              "    <tr style=\"text-align: right;\">\n",
              "      <th></th>\n",
              "      <th>Number</th>\n",
              "      <th>oxide1</th>\n",
              "      <th>oxide2</th>\n",
              "      <th>oxide3</th>\n",
              "      <th>oxide4</th>\n",
              "      <th>oxide5</th>\n",
              "      <th>oxide6</th>\n",
              "      <th>oxide7</th>\n",
              "      <th>oxide8</th>\n",
              "      <th>oxide9</th>\n",
              "      <th>class</th>\n",
              "    </tr>\n",
              "  </thead>\n",
              "  <tbody>\n",
              "    <tr>\n",
              "      <th>0</th>\n",
              "      <td>1</td>\n",
              "      <td>1.52101</td>\n",
              "      <td>13.64</td>\n",
              "      <td>4.49</td>\n",
              "      <td>1.10</td>\n",
              "      <td>71.78</td>\n",
              "      <td>0.06</td>\n",
              "      <td>8.75</td>\n",
              "      <td>0.0</td>\n",
              "      <td>0.0</td>\n",
              "      <td>1</td>\n",
              "    </tr>\n",
              "    <tr>\n",
              "      <th>1</th>\n",
              "      <td>2</td>\n",
              "      <td>1.51761</td>\n",
              "      <td>13.89</td>\n",
              "      <td>3.60</td>\n",
              "      <td>1.36</td>\n",
              "      <td>72.73</td>\n",
              "      <td>0.48</td>\n",
              "      <td>7.83</td>\n",
              "      <td>0.0</td>\n",
              "      <td>0.0</td>\n",
              "      <td>1</td>\n",
              "    </tr>\n",
              "    <tr>\n",
              "      <th>2</th>\n",
              "      <td>3</td>\n",
              "      <td>1.51618</td>\n",
              "      <td>13.53</td>\n",
              "      <td>3.55</td>\n",
              "      <td>1.54</td>\n",
              "      <td>72.99</td>\n",
              "      <td>0.39</td>\n",
              "      <td>7.78</td>\n",
              "      <td>0.0</td>\n",
              "      <td>0.0</td>\n",
              "      <td>1</td>\n",
              "    </tr>\n",
              "    <tr>\n",
              "      <th>3</th>\n",
              "      <td>4</td>\n",
              "      <td>1.51766</td>\n",
              "      <td>13.21</td>\n",
              "      <td>3.69</td>\n",
              "      <td>1.29</td>\n",
              "      <td>72.61</td>\n",
              "      <td>0.57</td>\n",
              "      <td>8.22</td>\n",
              "      <td>0.0</td>\n",
              "      <td>0.0</td>\n",
              "      <td>1</td>\n",
              "    </tr>\n",
              "    <tr>\n",
              "      <th>4</th>\n",
              "      <td>5</td>\n",
              "      <td>1.51742</td>\n",
              "      <td>13.27</td>\n",
              "      <td>3.62</td>\n",
              "      <td>1.24</td>\n",
              "      <td>73.08</td>\n",
              "      <td>0.55</td>\n",
              "      <td>8.07</td>\n",
              "      <td>0.0</td>\n",
              "      <td>0.0</td>\n",
              "      <td>1</td>\n",
              "    </tr>\n",
              "  </tbody>\n",
              "</table>\n",
              "</div>\n",
              "      <button class=\"colab-df-convert\" onclick=\"convertToInteractive('df-e3741ece-8f46-442a-b3f4-61e03aa0e4fc')\"\n",
              "              title=\"Convert this dataframe to an interactive table.\"\n",
              "              style=\"display:none;\">\n",
              "        \n",
              "  <svg xmlns=\"http://www.w3.org/2000/svg\" height=\"24px\"viewBox=\"0 0 24 24\"\n",
              "       width=\"24px\">\n",
              "    <path d=\"M0 0h24v24H0V0z\" fill=\"none\"/>\n",
              "    <path d=\"M18.56 5.44l.94 2.06.94-2.06 2.06-.94-2.06-.94-.94-2.06-.94 2.06-2.06.94zm-11 1L8.5 8.5l.94-2.06 2.06-.94-2.06-.94L8.5 2.5l-.94 2.06-2.06.94zm10 10l.94 2.06.94-2.06 2.06-.94-2.06-.94-.94-2.06-.94 2.06-2.06.94z\"/><path d=\"M17.41 7.96l-1.37-1.37c-.4-.4-.92-.59-1.43-.59-.52 0-1.04.2-1.43.59L10.3 9.45l-7.72 7.72c-.78.78-.78 2.05 0 2.83L4 21.41c.39.39.9.59 1.41.59.51 0 1.02-.2 1.41-.59l7.78-7.78 2.81-2.81c.8-.78.8-2.07 0-2.86zM5.41 20L4 18.59l7.72-7.72 1.47 1.35L5.41 20z\"/>\n",
              "  </svg>\n",
              "      </button>\n",
              "      \n",
              "  <style>\n",
              "    .colab-df-container {\n",
              "      display:flex;\n",
              "      flex-wrap:wrap;\n",
              "      gap: 12px;\n",
              "    }\n",
              "\n",
              "    .colab-df-convert {\n",
              "      background-color: #E8F0FE;\n",
              "      border: none;\n",
              "      border-radius: 50%;\n",
              "      cursor: pointer;\n",
              "      display: none;\n",
              "      fill: #1967D2;\n",
              "      height: 32px;\n",
              "      padding: 0 0 0 0;\n",
              "      width: 32px;\n",
              "    }\n",
              "\n",
              "    .colab-df-convert:hover {\n",
              "      background-color: #E2EBFA;\n",
              "      box-shadow: 0px 1px 2px rgba(60, 64, 67, 0.3), 0px 1px 3px 1px rgba(60, 64, 67, 0.15);\n",
              "      fill: #174EA6;\n",
              "    }\n",
              "\n",
              "    [theme=dark] .colab-df-convert {\n",
              "      background-color: #3B4455;\n",
              "      fill: #D2E3FC;\n",
              "    }\n",
              "\n",
              "    [theme=dark] .colab-df-convert:hover {\n",
              "      background-color: #434B5C;\n",
              "      box-shadow: 0px 1px 3px 1px rgba(0, 0, 0, 0.15);\n",
              "      filter: drop-shadow(0px 1px 2px rgba(0, 0, 0, 0.3));\n",
              "      fill: #FFFFFF;\n",
              "    }\n",
              "  </style>\n",
              "\n",
              "      <script>\n",
              "        const buttonEl =\n",
              "          document.querySelector('#df-e3741ece-8f46-442a-b3f4-61e03aa0e4fc button.colab-df-convert');\n",
              "        buttonEl.style.display =\n",
              "          google.colab.kernel.accessAllowed ? 'block' : 'none';\n",
              "\n",
              "        async function convertToInteractive(key) {\n",
              "          const element = document.querySelector('#df-e3741ece-8f46-442a-b3f4-61e03aa0e4fc');\n",
              "          const dataTable =\n",
              "            await google.colab.kernel.invokeFunction('convertToInteractive',\n",
              "                                                     [key], {});\n",
              "          if (!dataTable) return;\n",
              "\n",
              "          const docLinkHtml = 'Like what you see? Visit the ' +\n",
              "            '<a target=\"_blank\" href=https://colab.research.google.com/notebooks/data_table.ipynb>data table notebook</a>'\n",
              "            + ' to learn more about interactive tables.';\n",
              "          element.innerHTML = '';\n",
              "          dataTable['output_type'] = 'display_data';\n",
              "          await google.colab.output.renderOutput(dataTable, element);\n",
              "          const docLink = document.createElement('div');\n",
              "          docLink.innerHTML = docLinkHtml;\n",
              "          element.appendChild(docLink);\n",
              "        }\n",
              "      </script>\n",
              "    </div>\n",
              "  </div>\n",
              "  "
            ]
          },
          "metadata": {},
          "execution_count": 19
        }
      ]
    },
    {
      "cell_type": "code",
      "source": [
        "train.drop(columns=[\"Number\"],inplace=True)"
      ],
      "metadata": {
        "id": "2uROuHp63UAY"
      },
      "execution_count": null,
      "outputs": []
    },
    {
      "cell_type": "code",
      "source": [
        "train.head()"
      ],
      "metadata": {
        "colab": {
          "base_uri": "https://localhost:8080/",
          "height": 206
        },
        "id": "Z-99b4vS4CP1",
        "outputId": "091b6739-7727-4551-d289-21e1d2a50d6b"
      },
      "execution_count": null,
      "outputs": [
        {
          "output_type": "execute_result",
          "data": {
            "text/plain": [
              "    oxide1  oxide2  oxide3  oxide4  oxide5  oxide6  oxide7  oxide8  oxide9  \\\n",
              "0  1.52101   13.64    4.49    1.10   71.78    0.06    8.75     0.0     0.0   \n",
              "1  1.51761   13.89    3.60    1.36   72.73    0.48    7.83     0.0     0.0   \n",
              "2  1.51618   13.53    3.55    1.54   72.99    0.39    7.78     0.0     0.0   \n",
              "3  1.51766   13.21    3.69    1.29   72.61    0.57    8.22     0.0     0.0   \n",
              "4  1.51742   13.27    3.62    1.24   73.08    0.55    8.07     0.0     0.0   \n",
              "\n",
              "   class  \n",
              "0      1  \n",
              "1      1  \n",
              "2      1  \n",
              "3      1  \n",
              "4      1  "
            ],
            "text/html": [
              "\n",
              "  <div id=\"df-75e09e5b-e1d5-41a1-8026-b3e9efda69ea\">\n",
              "    <div class=\"colab-df-container\">\n",
              "      <div>\n",
              "<style scoped>\n",
              "    .dataframe tbody tr th:only-of-type {\n",
              "        vertical-align: middle;\n",
              "    }\n",
              "\n",
              "    .dataframe tbody tr th {\n",
              "        vertical-align: top;\n",
              "    }\n",
              "\n",
              "    .dataframe thead th {\n",
              "        text-align: right;\n",
              "    }\n",
              "</style>\n",
              "<table border=\"1\" class=\"dataframe\">\n",
              "  <thead>\n",
              "    <tr style=\"text-align: right;\">\n",
              "      <th></th>\n",
              "      <th>oxide1</th>\n",
              "      <th>oxide2</th>\n",
              "      <th>oxide3</th>\n",
              "      <th>oxide4</th>\n",
              "      <th>oxide5</th>\n",
              "      <th>oxide6</th>\n",
              "      <th>oxide7</th>\n",
              "      <th>oxide8</th>\n",
              "      <th>oxide9</th>\n",
              "      <th>class</th>\n",
              "    </tr>\n",
              "  </thead>\n",
              "  <tbody>\n",
              "    <tr>\n",
              "      <th>0</th>\n",
              "      <td>1.52101</td>\n",
              "      <td>13.64</td>\n",
              "      <td>4.49</td>\n",
              "      <td>1.10</td>\n",
              "      <td>71.78</td>\n",
              "      <td>0.06</td>\n",
              "      <td>8.75</td>\n",
              "      <td>0.0</td>\n",
              "      <td>0.0</td>\n",
              "      <td>1</td>\n",
              "    </tr>\n",
              "    <tr>\n",
              "      <th>1</th>\n",
              "      <td>1.51761</td>\n",
              "      <td>13.89</td>\n",
              "      <td>3.60</td>\n",
              "      <td>1.36</td>\n",
              "      <td>72.73</td>\n",
              "      <td>0.48</td>\n",
              "      <td>7.83</td>\n",
              "      <td>0.0</td>\n",
              "      <td>0.0</td>\n",
              "      <td>1</td>\n",
              "    </tr>\n",
              "    <tr>\n",
              "      <th>2</th>\n",
              "      <td>1.51618</td>\n",
              "      <td>13.53</td>\n",
              "      <td>3.55</td>\n",
              "      <td>1.54</td>\n",
              "      <td>72.99</td>\n",
              "      <td>0.39</td>\n",
              "      <td>7.78</td>\n",
              "      <td>0.0</td>\n",
              "      <td>0.0</td>\n",
              "      <td>1</td>\n",
              "    </tr>\n",
              "    <tr>\n",
              "      <th>3</th>\n",
              "      <td>1.51766</td>\n",
              "      <td>13.21</td>\n",
              "      <td>3.69</td>\n",
              "      <td>1.29</td>\n",
              "      <td>72.61</td>\n",
              "      <td>0.57</td>\n",
              "      <td>8.22</td>\n",
              "      <td>0.0</td>\n",
              "      <td>0.0</td>\n",
              "      <td>1</td>\n",
              "    </tr>\n",
              "    <tr>\n",
              "      <th>4</th>\n",
              "      <td>1.51742</td>\n",
              "      <td>13.27</td>\n",
              "      <td>3.62</td>\n",
              "      <td>1.24</td>\n",
              "      <td>73.08</td>\n",
              "      <td>0.55</td>\n",
              "      <td>8.07</td>\n",
              "      <td>0.0</td>\n",
              "      <td>0.0</td>\n",
              "      <td>1</td>\n",
              "    </tr>\n",
              "  </tbody>\n",
              "</table>\n",
              "</div>\n",
              "      <button class=\"colab-df-convert\" onclick=\"convertToInteractive('df-75e09e5b-e1d5-41a1-8026-b3e9efda69ea')\"\n",
              "              title=\"Convert this dataframe to an interactive table.\"\n",
              "              style=\"display:none;\">\n",
              "        \n",
              "  <svg xmlns=\"http://www.w3.org/2000/svg\" height=\"24px\"viewBox=\"0 0 24 24\"\n",
              "       width=\"24px\">\n",
              "    <path d=\"M0 0h24v24H0V0z\" fill=\"none\"/>\n",
              "    <path d=\"M18.56 5.44l.94 2.06.94-2.06 2.06-.94-2.06-.94-.94-2.06-.94 2.06-2.06.94zm-11 1L8.5 8.5l.94-2.06 2.06-.94-2.06-.94L8.5 2.5l-.94 2.06-2.06.94zm10 10l.94 2.06.94-2.06 2.06-.94-2.06-.94-.94-2.06-.94 2.06-2.06.94z\"/><path d=\"M17.41 7.96l-1.37-1.37c-.4-.4-.92-.59-1.43-.59-.52 0-1.04.2-1.43.59L10.3 9.45l-7.72 7.72c-.78.78-.78 2.05 0 2.83L4 21.41c.39.39.9.59 1.41.59.51 0 1.02-.2 1.41-.59l7.78-7.78 2.81-2.81c.8-.78.8-2.07 0-2.86zM5.41 20L4 18.59l7.72-7.72 1.47 1.35L5.41 20z\"/>\n",
              "  </svg>\n",
              "      </button>\n",
              "      \n",
              "  <style>\n",
              "    .colab-df-container {\n",
              "      display:flex;\n",
              "      flex-wrap:wrap;\n",
              "      gap: 12px;\n",
              "    }\n",
              "\n",
              "    .colab-df-convert {\n",
              "      background-color: #E8F0FE;\n",
              "      border: none;\n",
              "      border-radius: 50%;\n",
              "      cursor: pointer;\n",
              "      display: none;\n",
              "      fill: #1967D2;\n",
              "      height: 32px;\n",
              "      padding: 0 0 0 0;\n",
              "      width: 32px;\n",
              "    }\n",
              "\n",
              "    .colab-df-convert:hover {\n",
              "      background-color: #E2EBFA;\n",
              "      box-shadow: 0px 1px 2px rgba(60, 64, 67, 0.3), 0px 1px 3px 1px rgba(60, 64, 67, 0.15);\n",
              "      fill: #174EA6;\n",
              "    }\n",
              "\n",
              "    [theme=dark] .colab-df-convert {\n",
              "      background-color: #3B4455;\n",
              "      fill: #D2E3FC;\n",
              "    }\n",
              "\n",
              "    [theme=dark] .colab-df-convert:hover {\n",
              "      background-color: #434B5C;\n",
              "      box-shadow: 0px 1px 3px 1px rgba(0, 0, 0, 0.15);\n",
              "      filter: drop-shadow(0px 1px 2px rgba(0, 0, 0, 0.3));\n",
              "      fill: #FFFFFF;\n",
              "    }\n",
              "  </style>\n",
              "\n",
              "      <script>\n",
              "        const buttonEl =\n",
              "          document.querySelector('#df-75e09e5b-e1d5-41a1-8026-b3e9efda69ea button.colab-df-convert');\n",
              "        buttonEl.style.display =\n",
              "          google.colab.kernel.accessAllowed ? 'block' : 'none';\n",
              "\n",
              "        async function convertToInteractive(key) {\n",
              "          const element = document.querySelector('#df-75e09e5b-e1d5-41a1-8026-b3e9efda69ea');\n",
              "          const dataTable =\n",
              "            await google.colab.kernel.invokeFunction('convertToInteractive',\n",
              "                                                     [key], {});\n",
              "          if (!dataTable) return;\n",
              "\n",
              "          const docLinkHtml = 'Like what you see? Visit the ' +\n",
              "            '<a target=\"_blank\" href=https://colab.research.google.com/notebooks/data_table.ipynb>data table notebook</a>'\n",
              "            + ' to learn more about interactive tables.';\n",
              "          element.innerHTML = '';\n",
              "          dataTable['output_type'] = 'display_data';\n",
              "          await google.colab.output.renderOutput(dataTable, element);\n",
              "          const docLink = document.createElement('div');\n",
              "          docLink.innerHTML = docLinkHtml;\n",
              "          element.appendChild(docLink);\n",
              "        }\n",
              "      </script>\n",
              "    </div>\n",
              "  </div>\n",
              "  "
            ]
          },
          "metadata": {},
          "execution_count": 21
        }
      ]
    },
    {
      "cell_type": "code",
      "source": [
        "train.info()"
      ],
      "metadata": {
        "colab": {
          "base_uri": "https://localhost:8080/"
        },
        "id": "Orpmm-0a4JiN",
        "outputId": "00696912-87f0-42b4-fb1e-c8916212e895"
      },
      "execution_count": null,
      "outputs": [
        {
          "output_type": "stream",
          "name": "stdout",
          "text": [
            "<class 'pandas.core.frame.DataFrame'>\n",
            "RangeIndex: 196 entries, 0 to 195\n",
            "Data columns (total 10 columns):\n",
            " #   Column  Non-Null Count  Dtype  \n",
            "---  ------  --------------  -----  \n",
            " 0   oxide1  196 non-null    float64\n",
            " 1   oxide2  196 non-null    float64\n",
            " 2   oxide3  196 non-null    float64\n",
            " 3   oxide4  196 non-null    float64\n",
            " 4   oxide5  196 non-null    float64\n",
            " 5   oxide6  196 non-null    float64\n",
            " 6   oxide7  196 non-null    float64\n",
            " 7   oxide8  196 non-null    float64\n",
            " 8   oxide9  196 non-null    float64\n",
            " 9   class   196 non-null    int64  \n",
            "dtypes: float64(9), int64(1)\n",
            "memory usage: 15.4 KB\n"
          ]
        }
      ]
    },
    {
      "cell_type": "code",
      "source": [
        "train.isnull().sum()"
      ],
      "metadata": {
        "colab": {
          "base_uri": "https://localhost:8080/"
        },
        "id": "5UMIl_D24T4K",
        "outputId": "468e02c8-9c32-46e7-d621-27b94a5a6671"
      },
      "execution_count": null,
      "outputs": [
        {
          "output_type": "execute_result",
          "data": {
            "text/plain": [
              "oxide1    0\n",
              "oxide2    0\n",
              "oxide3    0\n",
              "oxide4    0\n",
              "oxide5    0\n",
              "oxide6    0\n",
              "oxide7    0\n",
              "oxide8    0\n",
              "oxide9    0\n",
              "class     0\n",
              "dtype: int64"
            ]
          },
          "metadata": {},
          "execution_count": 23
        }
      ]
    },
    {
      "cell_type": "code",
      "source": [
        "train.describe().T"
      ],
      "metadata": {
        "colab": {
          "base_uri": "https://localhost:8080/",
          "height": 363
        },
        "id": "A1gcJbjq4ZlO",
        "outputId": "258ba7cf-3218-4f95-a42a-3d0102bd5fa8"
      },
      "execution_count": null,
      "outputs": [
        {
          "output_type": "execute_result",
          "data": {
            "text/plain": [
              "        count       mean       std       min        25%       50%        75%  \\\n",
              "oxide1  196.0   1.518295  0.003055   1.51131   1.516458   1.51763   1.518985   \n",
              "oxide2  196.0  13.375204  0.783145  10.73000  12.877500  13.28000  13.792500   \n",
              "oxide3  196.0   2.758980  1.392641   0.00000   2.362500   3.48000   3.610000   \n",
              "oxide4  196.0   1.454337  0.491688   0.29000   1.190000   1.36000   1.622500   \n",
              "oxide5  196.0  72.635408  0.763578  69.81000  72.317500  72.81000  73.080000   \n",
              "oxide6  196.0   0.519388  0.672703   0.00000   0.140000   0.56000   0.610000   \n",
              "oxide7  196.0   8.910714  1.421490   5.43000   8.220000   8.57500   9.092500   \n",
              "oxide8  196.0   0.164235  0.485198   0.00000   0.000000   0.00000   0.000000   \n",
              "oxide9  196.0   0.050255  0.086359   0.00000   0.000000   0.00000   0.090000   \n",
              "class   196.0   2.668367  2.062416   1.00000   1.000000   2.00000   3.000000   \n",
              "\n",
              "             max  \n",
              "oxide1   1.53393  \n",
              "oxide2  15.79000  \n",
              "oxide3   4.49000  \n",
              "oxide4   3.50000  \n",
              "oxide5  75.18000  \n",
              "oxide6   6.21000  \n",
              "oxide7  16.19000  \n",
              "oxide8   3.15000  \n",
              "oxide9   0.34000  \n",
              "class    7.00000  "
            ],
            "text/html": [
              "\n",
              "  <div id=\"df-8b339c7e-b8c1-4378-8212-bc9831c5b9ba\">\n",
              "    <div class=\"colab-df-container\">\n",
              "      <div>\n",
              "<style scoped>\n",
              "    .dataframe tbody tr th:only-of-type {\n",
              "        vertical-align: middle;\n",
              "    }\n",
              "\n",
              "    .dataframe tbody tr th {\n",
              "        vertical-align: top;\n",
              "    }\n",
              "\n",
              "    .dataframe thead th {\n",
              "        text-align: right;\n",
              "    }\n",
              "</style>\n",
              "<table border=\"1\" class=\"dataframe\">\n",
              "  <thead>\n",
              "    <tr style=\"text-align: right;\">\n",
              "      <th></th>\n",
              "      <th>count</th>\n",
              "      <th>mean</th>\n",
              "      <th>std</th>\n",
              "      <th>min</th>\n",
              "      <th>25%</th>\n",
              "      <th>50%</th>\n",
              "      <th>75%</th>\n",
              "      <th>max</th>\n",
              "    </tr>\n",
              "  </thead>\n",
              "  <tbody>\n",
              "    <tr>\n",
              "      <th>oxide1</th>\n",
              "      <td>196.0</td>\n",
              "      <td>1.518295</td>\n",
              "      <td>0.003055</td>\n",
              "      <td>1.51131</td>\n",
              "      <td>1.516458</td>\n",
              "      <td>1.51763</td>\n",
              "      <td>1.518985</td>\n",
              "      <td>1.53393</td>\n",
              "    </tr>\n",
              "    <tr>\n",
              "      <th>oxide2</th>\n",
              "      <td>196.0</td>\n",
              "      <td>13.375204</td>\n",
              "      <td>0.783145</td>\n",
              "      <td>10.73000</td>\n",
              "      <td>12.877500</td>\n",
              "      <td>13.28000</td>\n",
              "      <td>13.792500</td>\n",
              "      <td>15.79000</td>\n",
              "    </tr>\n",
              "    <tr>\n",
              "      <th>oxide3</th>\n",
              "      <td>196.0</td>\n",
              "      <td>2.758980</td>\n",
              "      <td>1.392641</td>\n",
              "      <td>0.00000</td>\n",
              "      <td>2.362500</td>\n",
              "      <td>3.48000</td>\n",
              "      <td>3.610000</td>\n",
              "      <td>4.49000</td>\n",
              "    </tr>\n",
              "    <tr>\n",
              "      <th>oxide4</th>\n",
              "      <td>196.0</td>\n",
              "      <td>1.454337</td>\n",
              "      <td>0.491688</td>\n",
              "      <td>0.29000</td>\n",
              "      <td>1.190000</td>\n",
              "      <td>1.36000</td>\n",
              "      <td>1.622500</td>\n",
              "      <td>3.50000</td>\n",
              "    </tr>\n",
              "    <tr>\n",
              "      <th>oxide5</th>\n",
              "      <td>196.0</td>\n",
              "      <td>72.635408</td>\n",
              "      <td>0.763578</td>\n",
              "      <td>69.81000</td>\n",
              "      <td>72.317500</td>\n",
              "      <td>72.81000</td>\n",
              "      <td>73.080000</td>\n",
              "      <td>75.18000</td>\n",
              "    </tr>\n",
              "    <tr>\n",
              "      <th>oxide6</th>\n",
              "      <td>196.0</td>\n",
              "      <td>0.519388</td>\n",
              "      <td>0.672703</td>\n",
              "      <td>0.00000</td>\n",
              "      <td>0.140000</td>\n",
              "      <td>0.56000</td>\n",
              "      <td>0.610000</td>\n",
              "      <td>6.21000</td>\n",
              "    </tr>\n",
              "    <tr>\n",
              "      <th>oxide7</th>\n",
              "      <td>196.0</td>\n",
              "      <td>8.910714</td>\n",
              "      <td>1.421490</td>\n",
              "      <td>5.43000</td>\n",
              "      <td>8.220000</td>\n",
              "      <td>8.57500</td>\n",
              "      <td>9.092500</td>\n",
              "      <td>16.19000</td>\n",
              "    </tr>\n",
              "    <tr>\n",
              "      <th>oxide8</th>\n",
              "      <td>196.0</td>\n",
              "      <td>0.164235</td>\n",
              "      <td>0.485198</td>\n",
              "      <td>0.00000</td>\n",
              "      <td>0.000000</td>\n",
              "      <td>0.00000</td>\n",
              "      <td>0.000000</td>\n",
              "      <td>3.15000</td>\n",
              "    </tr>\n",
              "    <tr>\n",
              "      <th>oxide9</th>\n",
              "      <td>196.0</td>\n",
              "      <td>0.050255</td>\n",
              "      <td>0.086359</td>\n",
              "      <td>0.00000</td>\n",
              "      <td>0.000000</td>\n",
              "      <td>0.00000</td>\n",
              "      <td>0.090000</td>\n",
              "      <td>0.34000</td>\n",
              "    </tr>\n",
              "    <tr>\n",
              "      <th>class</th>\n",
              "      <td>196.0</td>\n",
              "      <td>2.668367</td>\n",
              "      <td>2.062416</td>\n",
              "      <td>1.00000</td>\n",
              "      <td>1.000000</td>\n",
              "      <td>2.00000</td>\n",
              "      <td>3.000000</td>\n",
              "      <td>7.00000</td>\n",
              "    </tr>\n",
              "  </tbody>\n",
              "</table>\n",
              "</div>\n",
              "      <button class=\"colab-df-convert\" onclick=\"convertToInteractive('df-8b339c7e-b8c1-4378-8212-bc9831c5b9ba')\"\n",
              "              title=\"Convert this dataframe to an interactive table.\"\n",
              "              style=\"display:none;\">\n",
              "        \n",
              "  <svg xmlns=\"http://www.w3.org/2000/svg\" height=\"24px\"viewBox=\"0 0 24 24\"\n",
              "       width=\"24px\">\n",
              "    <path d=\"M0 0h24v24H0V0z\" fill=\"none\"/>\n",
              "    <path d=\"M18.56 5.44l.94 2.06.94-2.06 2.06-.94-2.06-.94-.94-2.06-.94 2.06-2.06.94zm-11 1L8.5 8.5l.94-2.06 2.06-.94-2.06-.94L8.5 2.5l-.94 2.06-2.06.94zm10 10l.94 2.06.94-2.06 2.06-.94-2.06-.94-.94-2.06-.94 2.06-2.06.94z\"/><path d=\"M17.41 7.96l-1.37-1.37c-.4-.4-.92-.59-1.43-.59-.52 0-1.04.2-1.43.59L10.3 9.45l-7.72 7.72c-.78.78-.78 2.05 0 2.83L4 21.41c.39.39.9.59 1.41.59.51 0 1.02-.2 1.41-.59l7.78-7.78 2.81-2.81c.8-.78.8-2.07 0-2.86zM5.41 20L4 18.59l7.72-7.72 1.47 1.35L5.41 20z\"/>\n",
              "  </svg>\n",
              "      </button>\n",
              "      \n",
              "  <style>\n",
              "    .colab-df-container {\n",
              "      display:flex;\n",
              "      flex-wrap:wrap;\n",
              "      gap: 12px;\n",
              "    }\n",
              "\n",
              "    .colab-df-convert {\n",
              "      background-color: #E8F0FE;\n",
              "      border: none;\n",
              "      border-radius: 50%;\n",
              "      cursor: pointer;\n",
              "      display: none;\n",
              "      fill: #1967D2;\n",
              "      height: 32px;\n",
              "      padding: 0 0 0 0;\n",
              "      width: 32px;\n",
              "    }\n",
              "\n",
              "    .colab-df-convert:hover {\n",
              "      background-color: #E2EBFA;\n",
              "      box-shadow: 0px 1px 2px rgba(60, 64, 67, 0.3), 0px 1px 3px 1px rgba(60, 64, 67, 0.15);\n",
              "      fill: #174EA6;\n",
              "    }\n",
              "\n",
              "    [theme=dark] .colab-df-convert {\n",
              "      background-color: #3B4455;\n",
              "      fill: #D2E3FC;\n",
              "    }\n",
              "\n",
              "    [theme=dark] .colab-df-convert:hover {\n",
              "      background-color: #434B5C;\n",
              "      box-shadow: 0px 1px 3px 1px rgba(0, 0, 0, 0.15);\n",
              "      filter: drop-shadow(0px 1px 2px rgba(0, 0, 0, 0.3));\n",
              "      fill: #FFFFFF;\n",
              "    }\n",
              "  </style>\n",
              "\n",
              "      <script>\n",
              "        const buttonEl =\n",
              "          document.querySelector('#df-8b339c7e-b8c1-4378-8212-bc9831c5b9ba button.colab-df-convert');\n",
              "        buttonEl.style.display =\n",
              "          google.colab.kernel.accessAllowed ? 'block' : 'none';\n",
              "\n",
              "        async function convertToInteractive(key) {\n",
              "          const element = document.querySelector('#df-8b339c7e-b8c1-4378-8212-bc9831c5b9ba');\n",
              "          const dataTable =\n",
              "            await google.colab.kernel.invokeFunction('convertToInteractive',\n",
              "                                                     [key], {});\n",
              "          if (!dataTable) return;\n",
              "\n",
              "          const docLinkHtml = 'Like what you see? Visit the ' +\n",
              "            '<a target=\"_blank\" href=https://colab.research.google.com/notebooks/data_table.ipynb>data table notebook</a>'\n",
              "            + ' to learn more about interactive tables.';\n",
              "          element.innerHTML = '';\n",
              "          dataTable['output_type'] = 'display_data';\n",
              "          await google.colab.output.renderOutput(dataTable, element);\n",
              "          const docLink = document.createElement('div');\n",
              "          docLink.innerHTML = docLinkHtml;\n",
              "          element.appendChild(docLink);\n",
              "        }\n",
              "      </script>\n",
              "    </div>\n",
              "  </div>\n",
              "  "
            ]
          },
          "metadata": {},
          "execution_count": 24
        }
      ]
    },
    {
      "cell_type": "code",
      "source": [
        "train.std()"
      ],
      "metadata": {
        "colab": {
          "base_uri": "https://localhost:8080/"
        },
        "id": "ewyUiN8a4e2c",
        "outputId": "2b663155-ddb8-4efb-9acf-84b3e3336623"
      },
      "execution_count": null,
      "outputs": [
        {
          "output_type": "execute_result",
          "data": {
            "text/plain": [
              "oxide1    0.003055\n",
              "oxide2    0.783145\n",
              "oxide3    1.392641\n",
              "oxide4    0.491688\n",
              "oxide5    0.763578\n",
              "oxide6    0.672703\n",
              "oxide7    1.421490\n",
              "oxide8    0.485198\n",
              "oxide9    0.086359\n",
              "class     2.062416\n",
              "dtype: float64"
            ]
          },
          "metadata": {},
          "execution_count": 25
        }
      ]
    },
    {
      "cell_type": "code",
      "source": [
        "test=pd.read_csv(\"/content/testKNN (1).txt\",sep=\",\",header=None,\n",
        "                       names=[\"Number\",\"oxide1\",\"oxide2\",\"oxide3\",\"oxide4\",\"oxide5\",\"oxide6\",\"oxide7\",\"oxide8\",\"oxide9\",\"class\"])\n",
        "test.head()"
      ],
      "metadata": {
        "colab": {
          "base_uri": "https://localhost:8080/",
          "height": 206
        },
        "id": "ayUdgata_jkG",
        "outputId": "77ad839c-8115-48d3-c981-b9b8144ed598"
      },
      "execution_count": null,
      "outputs": [
        {
          "output_type": "execute_result",
          "data": {
            "text/plain": [
              "   Number   oxide1  oxide2  oxide3  oxide4  oxide5  oxide6  oxide7  oxide8  \\\n",
              "0      68  1.52152   13.05    3.65    0.87   72.32    0.19    9.85     0.0   \n",
              "1      69  1.52152   13.12    3.58    0.90   72.20    0.23    9.82     0.0   \n",
              "2      70  1.52300   13.31    3.58    0.82   71.99    0.12   10.17     0.0   \n",
              "3     144  1.51709   13.00    3.47    1.79   72.72    0.66    8.18     0.0   \n",
              "4     145  1.51660   12.99    3.18    1.23   72.97    0.58    8.81     0.0   \n",
              "\n",
              "   oxide9  class  \n",
              "0    0.17      1  \n",
              "1    0.16      1  \n",
              "2    0.03      1  \n",
              "3    0.00      2  \n",
              "4    0.24      2  "
            ],
            "text/html": [
              "\n",
              "  <div id=\"df-026d1c5d-f4ac-4ead-84f1-72238e134270\">\n",
              "    <div class=\"colab-df-container\">\n",
              "      <div>\n",
              "<style scoped>\n",
              "    .dataframe tbody tr th:only-of-type {\n",
              "        vertical-align: middle;\n",
              "    }\n",
              "\n",
              "    .dataframe tbody tr th {\n",
              "        vertical-align: top;\n",
              "    }\n",
              "\n",
              "    .dataframe thead th {\n",
              "        text-align: right;\n",
              "    }\n",
              "</style>\n",
              "<table border=\"1\" class=\"dataframe\">\n",
              "  <thead>\n",
              "    <tr style=\"text-align: right;\">\n",
              "      <th></th>\n",
              "      <th>Number</th>\n",
              "      <th>oxide1</th>\n",
              "      <th>oxide2</th>\n",
              "      <th>oxide3</th>\n",
              "      <th>oxide4</th>\n",
              "      <th>oxide5</th>\n",
              "      <th>oxide6</th>\n",
              "      <th>oxide7</th>\n",
              "      <th>oxide8</th>\n",
              "      <th>oxide9</th>\n",
              "      <th>class</th>\n",
              "    </tr>\n",
              "  </thead>\n",
              "  <tbody>\n",
              "    <tr>\n",
              "      <th>0</th>\n",
              "      <td>68</td>\n",
              "      <td>1.52152</td>\n",
              "      <td>13.05</td>\n",
              "      <td>3.65</td>\n",
              "      <td>0.87</td>\n",
              "      <td>72.32</td>\n",
              "      <td>0.19</td>\n",
              "      <td>9.85</td>\n",
              "      <td>0.0</td>\n",
              "      <td>0.17</td>\n",
              "      <td>1</td>\n",
              "    </tr>\n",
              "    <tr>\n",
              "      <th>1</th>\n",
              "      <td>69</td>\n",
              "      <td>1.52152</td>\n",
              "      <td>13.12</td>\n",
              "      <td>3.58</td>\n",
              "      <td>0.90</td>\n",
              "      <td>72.20</td>\n",
              "      <td>0.23</td>\n",
              "      <td>9.82</td>\n",
              "      <td>0.0</td>\n",
              "      <td>0.16</td>\n",
              "      <td>1</td>\n",
              "    </tr>\n",
              "    <tr>\n",
              "      <th>2</th>\n",
              "      <td>70</td>\n",
              "      <td>1.52300</td>\n",
              "      <td>13.31</td>\n",
              "      <td>3.58</td>\n",
              "      <td>0.82</td>\n",
              "      <td>71.99</td>\n",
              "      <td>0.12</td>\n",
              "      <td>10.17</td>\n",
              "      <td>0.0</td>\n",
              "      <td>0.03</td>\n",
              "      <td>1</td>\n",
              "    </tr>\n",
              "    <tr>\n",
              "      <th>3</th>\n",
              "      <td>144</td>\n",
              "      <td>1.51709</td>\n",
              "      <td>13.00</td>\n",
              "      <td>3.47</td>\n",
              "      <td>1.79</td>\n",
              "      <td>72.72</td>\n",
              "      <td>0.66</td>\n",
              "      <td>8.18</td>\n",
              "      <td>0.0</td>\n",
              "      <td>0.00</td>\n",
              "      <td>2</td>\n",
              "    </tr>\n",
              "    <tr>\n",
              "      <th>4</th>\n",
              "      <td>145</td>\n",
              "      <td>1.51660</td>\n",
              "      <td>12.99</td>\n",
              "      <td>3.18</td>\n",
              "      <td>1.23</td>\n",
              "      <td>72.97</td>\n",
              "      <td>0.58</td>\n",
              "      <td>8.81</td>\n",
              "      <td>0.0</td>\n",
              "      <td>0.24</td>\n",
              "      <td>2</td>\n",
              "    </tr>\n",
              "  </tbody>\n",
              "</table>\n",
              "</div>\n",
              "      <button class=\"colab-df-convert\" onclick=\"convertToInteractive('df-026d1c5d-f4ac-4ead-84f1-72238e134270')\"\n",
              "              title=\"Convert this dataframe to an interactive table.\"\n",
              "              style=\"display:none;\">\n",
              "        \n",
              "  <svg xmlns=\"http://www.w3.org/2000/svg\" height=\"24px\"viewBox=\"0 0 24 24\"\n",
              "       width=\"24px\">\n",
              "    <path d=\"M0 0h24v24H0V0z\" fill=\"none\"/>\n",
              "    <path d=\"M18.56 5.44l.94 2.06.94-2.06 2.06-.94-2.06-.94-.94-2.06-.94 2.06-2.06.94zm-11 1L8.5 8.5l.94-2.06 2.06-.94-2.06-.94L8.5 2.5l-.94 2.06-2.06.94zm10 10l.94 2.06.94-2.06 2.06-.94-2.06-.94-.94-2.06-.94 2.06-2.06.94z\"/><path d=\"M17.41 7.96l-1.37-1.37c-.4-.4-.92-.59-1.43-.59-.52 0-1.04.2-1.43.59L10.3 9.45l-7.72 7.72c-.78.78-.78 2.05 0 2.83L4 21.41c.39.39.9.59 1.41.59.51 0 1.02-.2 1.41-.59l7.78-7.78 2.81-2.81c.8-.78.8-2.07 0-2.86zM5.41 20L4 18.59l7.72-7.72 1.47 1.35L5.41 20z\"/>\n",
              "  </svg>\n",
              "      </button>\n",
              "      \n",
              "  <style>\n",
              "    .colab-df-container {\n",
              "      display:flex;\n",
              "      flex-wrap:wrap;\n",
              "      gap: 12px;\n",
              "    }\n",
              "\n",
              "    .colab-df-convert {\n",
              "      background-color: #E8F0FE;\n",
              "      border: none;\n",
              "      border-radius: 50%;\n",
              "      cursor: pointer;\n",
              "      display: none;\n",
              "      fill: #1967D2;\n",
              "      height: 32px;\n",
              "      padding: 0 0 0 0;\n",
              "      width: 32px;\n",
              "    }\n",
              "\n",
              "    .colab-df-convert:hover {\n",
              "      background-color: #E2EBFA;\n",
              "      box-shadow: 0px 1px 2px rgba(60, 64, 67, 0.3), 0px 1px 3px 1px rgba(60, 64, 67, 0.15);\n",
              "      fill: #174EA6;\n",
              "    }\n",
              "\n",
              "    [theme=dark] .colab-df-convert {\n",
              "      background-color: #3B4455;\n",
              "      fill: #D2E3FC;\n",
              "    }\n",
              "\n",
              "    [theme=dark] .colab-df-convert:hover {\n",
              "      background-color: #434B5C;\n",
              "      box-shadow: 0px 1px 3px 1px rgba(0, 0, 0, 0.15);\n",
              "      filter: drop-shadow(0px 1px 2px rgba(0, 0, 0, 0.3));\n",
              "      fill: #FFFFFF;\n",
              "    }\n",
              "  </style>\n",
              "\n",
              "      <script>\n",
              "        const buttonEl =\n",
              "          document.querySelector('#df-026d1c5d-f4ac-4ead-84f1-72238e134270 button.colab-df-convert');\n",
              "        buttonEl.style.display =\n",
              "          google.colab.kernel.accessAllowed ? 'block' : 'none';\n",
              "\n",
              "        async function convertToInteractive(key) {\n",
              "          const element = document.querySelector('#df-026d1c5d-f4ac-4ead-84f1-72238e134270');\n",
              "          const dataTable =\n",
              "            await google.colab.kernel.invokeFunction('convertToInteractive',\n",
              "                                                     [key], {});\n",
              "          if (!dataTable) return;\n",
              "\n",
              "          const docLinkHtml = 'Like what you see? Visit the ' +\n",
              "            '<a target=\"_blank\" href=https://colab.research.google.com/notebooks/data_table.ipynb>data table notebook</a>'\n",
              "            + ' to learn more about interactive tables.';\n",
              "          element.innerHTML = '';\n",
              "          dataTable['output_type'] = 'display_data';\n",
              "          await google.colab.output.renderOutput(dataTable, element);\n",
              "          const docLink = document.createElement('div');\n",
              "          docLink.innerHTML = docLinkHtml;\n",
              "          element.appendChild(docLink);\n",
              "        }\n",
              "      </script>\n",
              "    </div>\n",
              "  </div>\n",
              "  "
            ]
          },
          "metadata": {},
          "execution_count": 26
        }
      ]
    },
    {
      "cell_type": "code",
      "source": [
        "test.drop(columns=[\"Number\"],inplace=True)"
      ],
      "metadata": {
        "id": "xc5HEfdODKKI"
      },
      "execution_count": null,
      "outputs": []
    },
    {
      "cell_type": "code",
      "source": [
        "train[\"class\"].unique()"
      ],
      "metadata": {
        "colab": {
          "base_uri": "https://localhost:8080/"
        },
        "id": "NEKlTmNcAPbV",
        "outputId": "c0a7988a-7a7e-44d0-ba71-4d41dac053ef"
      },
      "execution_count": null,
      "outputs": [
        {
          "output_type": "execute_result",
          "data": {
            "text/plain": [
              "array([1, 2, 3, 5, 6, 7])"
            ]
          },
          "metadata": {},
          "execution_count": 32
        }
      ]
    },
    {
      "cell_type": "code",
      "source": [
        "sns.countplot(train[\"class\"])"
      ],
      "metadata": {
        "colab": {
          "base_uri": "https://localhost:8080/",
          "height": 351
        },
        "id": "f3XxMnmpAXFx",
        "outputId": "bc1cdf2b-c146-488b-9360-2f8343e61266"
      },
      "execution_count": null,
      "outputs": [
        {
          "output_type": "stream",
          "name": "stderr",
          "text": [
            "/usr/local/lib/python3.7/dist-packages/seaborn/_decorators.py:43: FutureWarning: Pass the following variable as a keyword arg: x. From version 0.12, the only valid positional argument will be `data`, and passing other arguments without an explicit keyword will result in an error or misinterpretation.\n",
            "  FutureWarning\n"
          ]
        },
        {
          "output_type": "execute_result",
          "data": {
            "text/plain": [
              "<matplotlib.axes._subplots.AxesSubplot at 0x7f2eab4596d0>"
            ]
          },
          "metadata": {},
          "execution_count": 33
        },
        {
          "output_type": "display_data",
          "data": {
            "text/plain": [
              "<Figure size 432x288 with 1 Axes>"
            ],
            "image/png": "[encoded data removed]"
          },
          "metadata": {
            "needs_background": "light"
          }
        }
      ]
    },
    {
      "cell_type": "code",
      "source": [
        "train[\"class\"].value_counts()"
      ],
      "metadata": {
        "colab": {
          "base_uri": "https://localhost:8080/"
        },
        "id": "seGe7lvPA2K6",
        "outputId": "3b916933-eac4-40c8-eb34-8ffba4834ca8"
      },
      "execution_count": null,
      "outputs": [
        {
          "output_type": "execute_result",
          "data": {
            "text/plain": [
              "2    73\n",
              "1    67\n",
              "7    26\n",
              "3    14\n",
              "5    10\n",
              "6     6\n",
              "Name: class, dtype: int64"
            ]
          },
          "metadata": {},
          "execution_count": 34
        }
      ]
    },
    {
      "cell_type": "code",
      "source": [
        "corr=train.corr()\n",
        "plt.figure(figsize=(15,15))\n",
        "sns.heatmap(corr,annot=True)\n"
      ],
      "metadata": {
        "colab": {
          "base_uri": "https://localhost:8080/",
          "height": 884
        },
        "id": "wGVqlUpkCPet",
        "outputId": "d795b363-36b6-4f56-d962-97a9ef5626c7"
      },
      "execution_count": null,
      "outputs": [
        {
          "output_type": "execute_result",
          "data": {
            "text/plain": [
              "<matplotlib.axes._subplots.AxesSubplot at 0x7f2eaad5b290>"
            ]
          },
          "metadata": {},
          "execution_count": 35
        },
        {
          "output_type": "display_data",
          "data": {
            "text/plain": [
              "<Figure size 1080x1080 with 2 Axes>"
            ],
            "image/png": "[encoded data removed]"
          },
          "metadata": {
            "needs_background": "light"
          }
        }
      ]
    },
    {
      "cell_type": "code",
      "source": [
        "#dropping one feature from oxide 2 and 7 since they are highky correlated\n",
        "train.drop([\"oxide7\"],axis=1,inplace=True)\n",
        "test.drop([\"oxide7\"],axis=1,inplace=True)\n",
        "print(train.head())\n"
      ],
      "metadata": {
        "colab": {
          "base_uri": "https://localhost:8080/"
        },
        "id": "F8XYO7uzEpiN",
        "outputId": "982de0d6-057e-4a12-d0e2-331d9a5540e6"
      },
      "execution_count": null,
      "outputs": [
        {
          "output_type": "stream",
          "name": "stdout",
          "text": [
            "    oxide1  oxide2  oxide3  oxide4  oxide5  oxide6  oxide8  oxide9  class\n",
            "0  1.52101   13.64    4.49    1.10   71.78    0.06     0.0     0.0      1\n",
            "1  1.51761   13.89    3.60    1.36   72.73    0.48     0.0     0.0      1\n",
            "2  1.51618   13.53    3.55    1.54   72.99    0.39     0.0     0.0      1\n",
            "3  1.51766   13.21    3.69    1.29   72.61    0.57     0.0     0.0      1\n",
            "4  1.51742   13.27    3.62    1.24   73.08    0.55     0.0     0.0      1\n"
          ]
        }
      ]
    },
    {
      "cell_type": "code",
      "source": [
        "x_train=train.iloc[:,:8]\n",
        "y_train=train.iloc[:,-1:]\n",
        "x_test=test.iloc[:,:8]\n",
        "y_test=test.iloc[:,-1:]"
      ],
      "metadata": {
        "id": "4puDgFxhJgdp"
      },
      "execution_count": null,
      "outputs": []
    },
    {
      "cell_type": "code",
      "source": [
        "for i in range(1,11):\n",
        "  knn = KNeighborsClassifier(i) \n",
        "  knn.fit(x_train,y_train) \n",
        "  print(\"K value  : \" , i, \"trainscore:\",knn.score(x_train,y_train),\" trainscore : \", np.mean(cross_val_score(knn, x_train, y_train, cv=6,scoring=\"accuracy\")))"
      ],
      "metadata": {
        "colab": {
          "base_uri": "https://localhost:8080/"
        },
        "id": "0hLaSO9rKggq",
        "outputId": "434145ba-7e68-4ae5-dab4-14f8fb393b4a"
      },
      "execution_count": null,
      "outputs": [
        {
          "output_type": "stream",
          "name": "stdout",
          "text": [
            "K value  :  1 trainscore: 1.0  trainscore :  0.6273674242424242\n",
            "K value  :  2 trainscore: 0.8622448979591837  trainscore :  0.6223169191919192\n",
            "K value  :  3 trainscore: 0.8214285714285714  trainscore :  0.6073232323232323\n",
            "K value  :  4 trainscore: 0.7908163265306123  trainscore :  0.6068497474747474\n",
            "K value  :  5 trainscore: 0.7806122448979592  trainscore :  0.6171085858585859\n",
            "K value  :  6 trainscore: 0.7602040816326531  trainscore :  0.5812815656565656\n",
            "K value  :  7 trainscore: 0.7346938775510204  trainscore :  0.6070075757575757\n",
            "K value  :  8 trainscore: 0.7295918367346939  trainscore :  0.6019570707070706\n",
            "K value  :  9 trainscore: 0.7142857142857143  trainscore :  0.5869633838383838\n",
            "K value  :  10 trainscore: 0.6938775510204082  trainscore :  0.6073232323232323\n"
          ]
        }
      ]
    },
    {
      "cell_type": "code",
      "source": [
        "#manhattan\n",
        "manh_knn=KNeighborsClassifier(n_neighbors=3,metric=\"manhattan\")\n",
        "manh_knn.fit(x_train,y_train)\n",
        "manh_pred=manh_knn.predict(x_test)\n",
        "print(classification_report(y_test,manh_pred))\n",
        "print(\"ACCURACY:\",accuracy_score(y_test,manh_pred))\n"
      ],
      "metadata": {
        "colab": {
          "base_uri": "https://localhost:8080/"
        },
        "id": "oZBNIO29KrRg",
        "outputId": "309e3ae3-e1b7-4c4f-916e-e31d1f836cb7"
      },
      "execution_count": null,
      "outputs": [
        {
          "output_type": "stream",
          "name": "stdout",
          "text": [
            "              precision    recall  f1-score   support\n",
            "\n",
            "           1       0.60      1.00      0.75         3\n",
            "           2       0.40      0.67      0.50         3\n",
            "           3       1.00      0.67      0.80         3\n",
            "           5       1.00      0.67      0.80         3\n",
            "           6       0.00      0.00      0.00         3\n",
            "           7       0.75      1.00      0.86         3\n",
            "\n",
            "    accuracy                           0.67        18\n",
            "   macro avg       0.62      0.67      0.62        18\n",
            "weighted avg       0.62      0.67      0.62        18\n",
            "\n",
            "ACCURACY: 0.6666666666666666\n"
          ]
        }
      ]
    },
    {
      "cell_type": "code",
      "source": [
        "seq_knn=KNeighborsClassifier(n_neighbors=3,metric=\"sqeuclidean\")\n",
        "seq_knn.fit(x_train,y_train)\n",
        "seq_pred=seq_knn.predict(x_test)\n",
        "print(classification_report(y_test,seq_pred))\n",
        "print(\"ACCURACY:\",accuracy_score(y_test,seq_pred))\n",
        " "
      ],
      "metadata": {
        "colab": {
          "base_uri": "https://localhost:8080/"
        },
        "id": "yyYtHHBTOa8q",
        "outputId": "446d9358-a753-43d1-953c-c2fa34b412cb"
      },
      "execution_count": null,
      "outputs": [
        {
          "output_type": "stream",
          "name": "stdout",
          "text": [
            "              precision    recall  f1-score   support\n",
            "\n",
            "           1       0.50      1.00      0.67         3\n",
            "           2       0.33      0.33      0.33         3\n",
            "           3       1.00      0.67      0.80         3\n",
            "           5       1.00      0.67      0.80         3\n",
            "           6       0.00      0.00      0.00         3\n",
            "           7       0.60      1.00      0.75         3\n",
            "\n",
            "    accuracy                           0.61        18\n",
            "   macro avg       0.57      0.61      0.56        18\n",
            "weighted avg       0.57      0.61      0.56        18\n",
            "\n",
            "ACCURACY: 0.6111111111111112\n"
          ]
        }
      ]
    },
    {
      "cell_type": "markdown",
      "source": [
        "From above two comparisons the ACCURACY of manhattan is more than squared euclidean distance,Therefore consider manhattan distance"
      ],
      "metadata": {
        "id": "AUxWkYI4OuDS"
      }
    }
  ]
}